{
  "cells": [
    {
      "cell_type": "markdown",
      "metadata": {},
      "source": [
        "#  CineMatch - Movie Recommendation System\n",
        "\n",
        "This notebook demonstrates the implementation of a comprehensive movie recommendation system using the MovieLens 100k dataset.\n",
        "\n",
        "## Project Overview\n",
        "\n",
        "CineMatch implements three main recommendation approaches:\n",
        "1. **Collaborative Filtering** - User-based and Item-based similarity\n",
        "2. **Content-Based Filtering** - Genre and feature-based recommendations\n",
        "3. **Hybrid System** - Combining both approaches for improved accuracy\n",
        "\n",
        "##  Let's get started!\n"
      ]
    },
    {
      "cell_type": "code",
      "execution_count": null,
      "metadata": {},
      "outputs": [],
      "source": [
        "# Import necessary libraries\n",
        "import pandas as pd\n",
        "import numpy as np\n",
        "import matplotlib.pyplot as plt\n",
        "import seaborn as sns\n",
        "from sklearn.metrics.pairwise import cosine_similarity\n",
        "from sklearn.decomposition import TruncatedSVD\n",
        "import warnings\n",
        "warnings.filterwarnings('ignore')\n",
        "\n",
        "# Set plotting style\n",
        "plt.style.use('seaborn-v0_8')\n",
        "sns.set_palette(\"husl\")\n",
        "\n",
        "print(\" Libraries imported successfully!\")\n"
      ]
    },
    {
      "cell_type": "markdown",
      "metadata": {},
      "source": [
        "##  Data Loading and Preprocessing\n"
      ]
    },
    {
      "cell_type": "code",
      "execution_count": null,
      "metadata": {},
      "outputs": [],
      "source": [
        "# Import our custom data loader\n",
        "from data_loader import MovieLensDataLoader\n",
        "\n",
        "# Initialize data loader\n",
        "data_loader = MovieLensDataLoader(\"data\")\n",
        "\n",
        "# Load the dataset\n",
        "print(\" Loading MovieLens 100k dataset...\")\n",
        "ratings_df, movies_df, users_df = data_loader.load_data()\n",
        "\n",
        "if ratings_df is not None:\n",
        "    print(\" Data loaded successfully!\")\n",
        "    print(f\"Users: {len(users_df)}\")\n",
        "    print(f\"Movies: {len(movies_df)}\")\n",
        "    print(f\"Ratings: {len(ratings_df)}\")\n",
        "else:\n",
        "    print(\"❌ Failed to load data. Please ensure the MovieLens dataset is in the 'data' folder.\")\n"
      ]
    }
  ],
  "metadata": {
    "language_info": {
      "name": "python"
    }
  },
  "nbformat": 4,
  "nbformat_minor": 2
}
